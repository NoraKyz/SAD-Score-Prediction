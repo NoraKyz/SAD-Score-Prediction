{
 "cells": [
  {
   "cell_type": "code",
   "execution_count": 24,
   "id": "92e55486",
   "metadata": {},
   "outputs": [],
   "source": [
    "import numpy as np\n",
    "import csv\n",
    "import pandas as pd\n",
    "import tensorflow as tf\n",
    "from tensorflow.keras.models import Sequential\n",
    "from tensorflow.keras.layers import Conv1D, Flatten, Dense, InputLayer, BatchNormalization, Dropout\n",
    "from tensorflow.keras.callbacks import EarlyStopping\n",
    "import matplotlib.pyplot as plt"
   ]
  },
  {
   "cell_type": "code",
   "execution_count": 3,
   "id": "b7329de1",
   "metadata": {},
   "outputs": [],
   "source": [
    "def round_to_quarter(score):\n",
    "    \"\"\"Làm tròn điểm đến .0, .25, .5, hoặc .75.\"\"\"\n",
    "    return np.round(score * 4) / 4"
   ]
  },
  {
   "cell_type": "code",
   "execution_count": 6,
   "id": "8d7ee2d3",
   "metadata": {},
   "outputs": [
    {
     "name": "stdout",
     "output_type": "stream",
     "text": [
      "Đã lưu dữ liệu vào file 'student_scores.csv'\n",
      "\n",
      "5 dòng dữ liệu đầu tiên:\n",
      "[8.0, 6.25, 7.75, 3.75, 6.0]\n",
      "[9.5, 9.25, 6.0, 2.5, 7.75]\n",
      "[9.5, 8.5, 7.25, 3.0, 5.25]\n",
      "[7.75, 10.0, 8.75, 8.5, 8.25]\n",
      "[6.25, 6.0, 7.0, 3.0, 5.0]\n"
     ]
    }
   ],
   "source": [
    "\n",
    "def generate_student_data(num_students, config):\n",
    "    \"\"\"Tạo dữ liệu điểm cho sinh viên.\"\"\"\n",
    "    data = []\n",
    "\n",
    "    component_weights = np.array([cfg['weight']\n",
    "                                 for cfg in config['components']])\n",
    "\n",
    "    for _ in range(num_students):\n",
    "        student_scores = []\n",
    "        # Tạo điểm thành phần\n",
    "        for comp_cfg in config['components']:\n",
    "            score = np.random.uniform(\n",
    "                comp_cfg['min_range'], comp_cfg['max_range'])\n",
    "            score = round_to_quarter(np.clip(score, 0, 10))\n",
    "            student_scores.append(score)\n",
    "\n",
    "        # Tính điểm trung bình có trọng số làm cơ sở cho điểm thi\n",
    "        weighted_avg = np.sum(np.array(student_scores) *\n",
    "                              component_weights) / np.sum(component_weights)\n",
    "\n",
    "        # Tạo điểm thi cuối kỳ dựa trên điểm thành phần\n",
    "        # Điểm trung bình càng cao, tâm phân phối điểm thi càng cao\n",
    "        # Thêm nhiễu để tạo sự ngẫu nhiên, nhưng giữ xu hướng\n",
    "        # Có thể điều chỉnh khoảng nhiễu\n",
    "        exam_mean = weighted_avg + np.random.uniform(-1, 1)\n",
    "\n",
    "        # Tạo điểm thi với xu hướng, nhưng thêm ngẫu nhiên lớn hơn\n",
    "        # Sử dụng phân phối tam giác: thấp, trung bình (mode), cao\n",
    "        # Mode càng cao khi weighted_avg càng cao\n",
    "        mode = np.clip(exam_mean, 0, 10)\n",
    "        # Tăng/giảm khoảng để điều chỉnh độ phân tán\n",
    "        low = np.clip(mode - 2, 0, 10)\n",
    "        high = np.clip(mode + 2, 0, 10)\n",
    "\n",
    "        final_exam_score = np.random.triangular(low, mode, high)\n",
    "        final_exam_score = round_to_quarter(np.clip(final_exam_score, 0, 10))\n",
    "\n",
    "        student_scores.append(final_exam_score)\n",
    "        data.append(student_scores)\n",
    "\n",
    "    return data\n",
    "\n",
    "\n",
    "def save_to_csv(data, filename=\"student_scores.csv\"):\n",
    "    \"\"\"Lưu dữ liệu vào file CSV.\"\"\"\n",
    "    header = ['C1', 'C2', 'C3',\n",
    "              'C4', 'FinalExam']\n",
    "    with open(filename, 'w', newline='', encoding='utf-8') as f:\n",
    "        writer = csv.writer(f)\n",
    "        writer.writerow(header)\n",
    "        writer.writerows(data)\n",
    "    print(f\"Đã lưu dữ liệu vào file '{filename}'\")\n",
    "\n",
    "\n",
    "# --- Cấu hình ---\n",
    "NUM_STUDENTS = 5000  # Số lượng sinh viên cần tạo\n",
    "\n",
    "# Cấu hình cho từng đầu điểm thành phần\n",
    "# weight: trọng số (dùng để tính điểm cơ sở cho điểm thi)\n",
    "# min_range, max_range: khoảng random cho điểm.\n",
    "# Các đầu điểm 10% (ví dụ Component1, Component2) có thể có khoảng cao hơn.\n",
    "SCORE_CONFIG = {\n",
    "    'components': [\n",
    "        {'name': 'C1', 'weight': 0.10,\n",
    "            'min_range': 6.0, 'max_range': 10.0},\n",
    "        {'name': 'C2', 'weight': 0.10,\n",
    "            'min_range': 6.0, 'max_range': 10.0},\n",
    "        {'name': 'C3', 'weight': 0.10, 'min_range': 2.0, 'max_range': 10.0},\n",
    "        {'name': 'C4', 'weight': 0.20, 'min_range': 2.0, 'max_range': 10.0},\n",
    "    ]\n",
    "}\n",
    "# Lưu ý: Trọng số ở đây chỉ dùng để tính 'xu hướng' cho điểm thi cuối kỳ,\n",
    "# không nhất thiết phải tổng = 1.\n",
    "\n",
    "# --- Chạy chương trình ---\n",
    "if __name__ == \"__main__\":\n",
    "    student_data = generate_student_data(NUM_STUDENTS, SCORE_CONFIG)\n",
    "    save_to_csv(student_data)\n",
    "\n",
    "    print(\"\\n5 dòng dữ liệu đầu tiên:\")\n",
    "    for row in student_data[:5]:\n",
    "        print(row)"
   ]
  },
  {
   "cell_type": "code",
   "execution_count": 7,
   "id": "32379601",
   "metadata": {},
   "outputs": [
    {
     "name": "stdout",
     "output_type": "stream",
     "text": [
      "\n",
      "Số lượng mẫu dữ liệu: 5000\n",
      "Hình dạng của X_original (trước khi áp dụng trọng số): (5000, 4)\n",
      "Hình dạng của y: (5000,)\n",
      "Hình dạng của X_cnn (sau khi reshape): (5000, 4, 1)\n"
     ]
    }
   ],
   "source": [
    "# --- 1. Tải và Chuẩn bị Dữ liệu ---\n",
    "CSV_FILENAME = \"student_scores.csv\"  # Sử dụng file dữ liệu gốc\n",
    "MODEL_FILENAME = \"student_score_predictor_cnn.h5\"  # Tên file để lưu model\n",
    "\n",
    "df = pd.read_csv(CSV_FILENAME)\n",
    "\n",
    "# Xác định các cột đặc trưng (input) và cột mục tiêu (output)\n",
    "feature_columns = ['C1', 'C2', 'C3', 'C4']\n",
    "target_column = 'FinalExam'\n",
    "\n",
    "X_original = df[feature_columns].values\n",
    "y = df[target_column].values\n",
    "\n",
    "print(f\"\\nSố lượng mẫu dữ liệu: {len(X_original)}\")\n",
    "print(f\"Hình dạng của X_original (trước khi áp dụng trọng số): {X_original.shape}\")\n",
    "print(f\"Hình dạng của y: {y.shape}\")\n",
    "\n",
    "# --- ÁP DỤNG TRỌNG SỐ CHO ĐẦU ĐIỂM THÀNH PHẦN (INPUT FEATURES) ---\n",
    "# Định nghĩa trọng số cho từng cột điểm C1 đến C4.\n",
    "input_feature_weights = np.array([0.1, 0.1, 0.1, 0.2])\n",
    "X_weighted = X_original * input_feature_weights\n",
    "\n",
    "\n",
    "# Định hình dữ liệu X_weighted cho CNN: (samples, timesteps, features)\n",
    "X_cnn = X_weighted.reshape((X_weighted.shape[0], X_weighted.shape[1], 1))\n",
    "print(f\"Hình dạng của X_cnn (sau khi reshape): {X_cnn.shape}\")\n"
   ]
  },
  {
   "cell_type": "code",
   "execution_count": 27,
   "id": "c33898e2",
   "metadata": {},
   "outputs": [
    {
     "data": {
      "text/html": [
       "<pre style=\"white-space:pre;overflow-x:auto;line-height:normal;font-family:Menlo,'DejaVu Sans Mono',consolas,'Courier New',monospace\"><span style=\"font-weight: bold\">Model: \"sequential_4\"</span>\n",
       "</pre>\n"
      ],
      "text/plain": [
       "\u001b[1mModel: \"sequential_4\"\u001b[0m\n"
      ]
     },
     "metadata": {},
     "output_type": "display_data"
    },
    {
     "data": {
      "text/html": [
       "<pre style=\"white-space:pre;overflow-x:auto;line-height:normal;font-family:Menlo,'DejaVu Sans Mono',consolas,'Courier New',monospace\">┏━━━━━━━━━━━━━━━━━━━━━━━━━━━━━━━━━┳━━━━━━━━━━━━━━━━━━━━━━━━┳━━━━━━━━━━━━━━━┓\n",
       "┃<span style=\"font-weight: bold\"> Layer (type)                    </span>┃<span style=\"font-weight: bold\"> Output Shape           </span>┃<span style=\"font-weight: bold\">       Param # </span>┃\n",
       "┡━━━━━━━━━━━━━━━━━━━━━━━━━━━━━━━━━╇━━━━━━━━━━━━━━━━━━━━━━━━╇━━━━━━━━━━━━━━━┩\n",
       "│ conv1d_5 (<span style=\"color: #0087ff; text-decoration-color: #0087ff\">Conv1D</span>)               │ (<span style=\"color: #00d7ff; text-decoration-color: #00d7ff\">None</span>, <span style=\"color: #00af00; text-decoration-color: #00af00\">4</span>, <span style=\"color: #00af00; text-decoration-color: #00af00\">32</span>)          │            <span style=\"color: #00af00; text-decoration-color: #00af00\">96</span> │\n",
       "├─────────────────────────────────┼────────────────────────┼───────────────┤\n",
       "│ flatten_4 (<span style=\"color: #0087ff; text-decoration-color: #0087ff\">Flatten</span>)             │ (<span style=\"color: #00d7ff; text-decoration-color: #00d7ff\">None</span>, <span style=\"color: #00af00; text-decoration-color: #00af00\">128</span>)            │             <span style=\"color: #00af00; text-decoration-color: #00af00\">0</span> │\n",
       "├─────────────────────────────────┼────────────────────────┼───────────────┤\n",
       "│ dense_9 (<span style=\"color: #0087ff; text-decoration-color: #0087ff\">Dense</span>)                 │ (<span style=\"color: #00d7ff; text-decoration-color: #00d7ff\">None</span>, <span style=\"color: #00af00; text-decoration-color: #00af00\">16</span>)             │         <span style=\"color: #00af00; text-decoration-color: #00af00\">2,064</span> │\n",
       "├─────────────────────────────────┼────────────────────────┼───────────────┤\n",
       "│ dense_10 (<span style=\"color: #0087ff; text-decoration-color: #0087ff\">Dense</span>)                │ (<span style=\"color: #00d7ff; text-decoration-color: #00d7ff\">None</span>, <span style=\"color: #00af00; text-decoration-color: #00af00\">1</span>)              │            <span style=\"color: #00af00; text-decoration-color: #00af00\">17</span> │\n",
       "└─────────────────────────────────┴────────────────────────┴───────────────┘\n",
       "</pre>\n"
      ],
      "text/plain": [
       "┏━━━━━━━━━━━━━━━━━━━━━━━━━━━━━━━━━┳━━━━━━━━━━━━━━━━━━━━━━━━┳━━━━━━━━━━━━━━━┓\n",
       "┃\u001b[1m \u001b[0m\u001b[1mLayer (type)                   \u001b[0m\u001b[1m \u001b[0m┃\u001b[1m \u001b[0m\u001b[1mOutput Shape          \u001b[0m\u001b[1m \u001b[0m┃\u001b[1m \u001b[0m\u001b[1m      Param #\u001b[0m\u001b[1m \u001b[0m┃\n",
       "┡━━━━━━━━━━━━━━━━━━━━━━━━━━━━━━━━━╇━━━━━━━━━━━━━━━━━━━━━━━━╇━━━━━━━━━━━━━━━┩\n",
       "│ conv1d_5 (\u001b[38;5;33mConv1D\u001b[0m)               │ (\u001b[38;5;45mNone\u001b[0m, \u001b[38;5;34m4\u001b[0m, \u001b[38;5;34m32\u001b[0m)          │            \u001b[38;5;34m96\u001b[0m │\n",
       "├─────────────────────────────────┼────────────────────────┼───────────────┤\n",
       "│ flatten_4 (\u001b[38;5;33mFlatten\u001b[0m)             │ (\u001b[38;5;45mNone\u001b[0m, \u001b[38;5;34m128\u001b[0m)            │             \u001b[38;5;34m0\u001b[0m │\n",
       "├─────────────────────────────────┼────────────────────────┼───────────────┤\n",
       "│ dense_9 (\u001b[38;5;33mDense\u001b[0m)                 │ (\u001b[38;5;45mNone\u001b[0m, \u001b[38;5;34m16\u001b[0m)             │         \u001b[38;5;34m2,064\u001b[0m │\n",
       "├─────────────────────────────────┼────────────────────────┼───────────────┤\n",
       "│ dense_10 (\u001b[38;5;33mDense\u001b[0m)                │ (\u001b[38;5;45mNone\u001b[0m, \u001b[38;5;34m1\u001b[0m)              │            \u001b[38;5;34m17\u001b[0m │\n",
       "└─────────────────────────────────┴────────────────────────┴───────────────┘\n"
      ]
     },
     "metadata": {},
     "output_type": "display_data"
    },
    {
     "data": {
      "text/html": [
       "<pre style=\"white-space:pre;overflow-x:auto;line-height:normal;font-family:Menlo,'DejaVu Sans Mono',consolas,'Courier New',monospace\"><span style=\"font-weight: bold\"> Total params: </span><span style=\"color: #00af00; text-decoration-color: #00af00\">2,177</span> (8.50 KB)\n",
       "</pre>\n"
      ],
      "text/plain": [
       "\u001b[1m Total params: \u001b[0m\u001b[38;5;34m2,177\u001b[0m (8.50 KB)\n"
      ]
     },
     "metadata": {},
     "output_type": "display_data"
    },
    {
     "data": {
      "text/html": [
       "<pre style=\"white-space:pre;overflow-x:auto;line-height:normal;font-family:Menlo,'DejaVu Sans Mono',consolas,'Courier New',monospace\"><span style=\"font-weight: bold\"> Trainable params: </span><span style=\"color: #00af00; text-decoration-color: #00af00\">2,177</span> (8.50 KB)\n",
       "</pre>\n"
      ],
      "text/plain": [
       "\u001b[1m Trainable params: \u001b[0m\u001b[38;5;34m2,177\u001b[0m (8.50 KB)\n"
      ]
     },
     "metadata": {},
     "output_type": "display_data"
    },
    {
     "data": {
      "text/html": [
       "<pre style=\"white-space:pre;overflow-x:auto;line-height:normal;font-family:Menlo,'DejaVu Sans Mono',consolas,'Courier New',monospace\"><span style=\"font-weight: bold\"> Non-trainable params: </span><span style=\"color: #00af00; text-decoration-color: #00af00\">0</span> (0.00 B)\n",
       "</pre>\n"
      ],
      "text/plain": [
       "\u001b[1m Non-trainable params: \u001b[0m\u001b[38;5;34m0\u001b[0m (0.00 B)\n"
      ]
     },
     "metadata": {},
     "output_type": "display_data"
    }
   ],
   "source": [
    "# --- 2. Xây dựng Mô hình CNN ---\n",
    "model = Sequential([\n",
    "    InputLayer(input_shape=(X_cnn.shape[1], X_cnn.shape[2])),  # (4, 1)\n",
    "    Conv1D(filters=32, kernel_size=2, activation='relu', padding='causal'),\n",
    "    Flatten(),\n",
    "    Dense(16, activation='relu'),\n",
    "    Dense(1)\n",
    "])\n",
    "\n",
    "model.summary()\n",
    "\n",
    "# --- 3. Biên dịch Mô hình ---\n",
    "model.compile(optimizer='adam',\n",
    "              loss='mse',\n",
    "              metrics=['mae'])\n"
   ]
  },
  {
   "cell_type": "code",
   "execution_count": 28,
   "id": "88f310d0",
   "metadata": {},
   "outputs": [
    {
     "name": "stdout",
     "output_type": "stream",
     "text": [
      "Epoch 1/100\n"
     ]
    },
    {
     "name": "stdout",
     "output_type": "stream",
     "text": [
      "\u001b[1m250/250\u001b[0m \u001b[32m━━━━━━━━━━━━━━━━━━━━\u001b[0m\u001b[37m\u001b[0m \u001b[1m1s\u001b[0m 967us/step - loss: 23.2413 - mae: 4.0477 - val_loss: 1.1422 - val_mae: 0.8817\n",
      "Epoch 2/100\n",
      "\u001b[1m250/250\u001b[0m \u001b[32m━━━━━━━━━━━━━━━━━━━━\u001b[0m\u001b[37m\u001b[0m \u001b[1m0s\u001b[0m 720us/step - loss: 1.1003 - mae: 0.8530 - val_loss: 1.0106 - val_mae: 0.8316\n",
      "Epoch 3/100\n",
      "\u001b[1m250/250\u001b[0m \u001b[32m━━━━━━━━━━━━━━━━━━━━\u001b[0m\u001b[37m\u001b[0m \u001b[1m0s\u001b[0m 695us/step - loss: 0.9590 - mae: 0.7849 - val_loss: 0.9535 - val_mae: 0.8078\n",
      "Epoch 4/100\n",
      "\u001b[1m250/250\u001b[0m \u001b[32m━━━━━━━━━━━━━━━━━━━━\u001b[0m\u001b[37m\u001b[0m \u001b[1m0s\u001b[0m 699us/step - loss: 0.9475 - mae: 0.7815 - val_loss: 0.9390 - val_mae: 0.7978\n",
      "Epoch 5/100\n",
      "\u001b[1m250/250\u001b[0m \u001b[32m━━━━━━━━━━━━━━━━━━━━\u001b[0m\u001b[37m\u001b[0m \u001b[1m0s\u001b[0m 729us/step - loss: 0.9332 - mae: 0.7796 - val_loss: 0.9461 - val_mae: 0.8040\n",
      "Epoch 6/100\n",
      "\u001b[1m250/250\u001b[0m \u001b[32m━━━━━━━━━━━━━━━━━━━━\u001b[0m\u001b[37m\u001b[0m \u001b[1m0s\u001b[0m 739us/step - loss: 0.9362 - mae: 0.7837 - val_loss: 0.9666 - val_mae: 0.8139\n",
      "Epoch 7/100\n",
      "\u001b[1m250/250\u001b[0m \u001b[32m━━━━━━━━━━━━━━━━━━━━\u001b[0m\u001b[37m\u001b[0m \u001b[1m0s\u001b[0m 736us/step - loss: 0.9674 - mae: 0.7993 - val_loss: 0.9331 - val_mae: 0.7955\n",
      "Epoch 8/100\n",
      "\u001b[1m250/250\u001b[0m \u001b[32m━━━━━━━━━━━━━━━━━━━━\u001b[0m\u001b[37m\u001b[0m \u001b[1m0s\u001b[0m 719us/step - loss: 0.9429 - mae: 0.7861 - val_loss: 0.9318 - val_mae: 0.7942\n",
      "Epoch 9/100\n",
      "\u001b[1m250/250\u001b[0m \u001b[32m━━━━━━━━━━━━━━━━━━━━\u001b[0m\u001b[37m\u001b[0m \u001b[1m0s\u001b[0m 716us/step - loss: 0.9231 - mae: 0.7814 - val_loss: 0.9713 - val_mae: 0.8021\n",
      "Epoch 10/100\n",
      "\u001b[1m250/250\u001b[0m \u001b[32m━━━━━━━━━━━━━━━━━━━━\u001b[0m\u001b[37m\u001b[0m \u001b[1m0s\u001b[0m 686us/step - loss: 0.9585 - mae: 0.7941 - val_loss: 0.9306 - val_mae: 0.7926\n",
      "Epoch 11/100\n",
      "\u001b[1m250/250\u001b[0m \u001b[32m━━━━━━━━━━━━━━━━━━━━\u001b[0m\u001b[37m\u001b[0m \u001b[1m0s\u001b[0m 681us/step - loss: 0.9177 - mae: 0.7757 - val_loss: 0.9375 - val_mae: 0.7934\n",
      "Epoch 12/100\n",
      "\u001b[1m250/250\u001b[0m \u001b[32m━━━━━━━━━━━━━━━━━━━━\u001b[0m\u001b[37m\u001b[0m \u001b[1m0s\u001b[0m 708us/step - loss: 0.9343 - mae: 0.7834 - val_loss: 0.9384 - val_mae: 0.7934\n",
      "Epoch 13/100\n",
      "\u001b[1m250/250\u001b[0m \u001b[32m━━━━━━━━━━━━━━━━━━━━\u001b[0m\u001b[37m\u001b[0m \u001b[1m0s\u001b[0m 699us/step - loss: 0.9732 - mae: 0.7951 - val_loss: 0.9307 - val_mae: 0.7917\n",
      "Epoch 14/100\n",
      "\u001b[1m250/250\u001b[0m \u001b[32m━━━━━━━━━━━━━━━━━━━━\u001b[0m\u001b[37m\u001b[0m \u001b[1m0s\u001b[0m 732us/step - loss: 0.9317 - mae: 0.7865 - val_loss: 0.9393 - val_mae: 0.8004\n",
      "Epoch 15/100\n",
      "\u001b[1m250/250\u001b[0m \u001b[32m━━━━━━━━━━━━━━━━━━━━\u001b[0m\u001b[37m\u001b[0m \u001b[1m0s\u001b[0m 712us/step - loss: 0.9262 - mae: 0.7832 - val_loss: 0.9300 - val_mae: 0.7949\n",
      "Epoch 16/100\n",
      "\u001b[1m250/250\u001b[0m \u001b[32m━━━━━━━━━━━━━━━━━━━━\u001b[0m\u001b[37m\u001b[0m \u001b[1m0s\u001b[0m 715us/step - loss: 0.9489 - mae: 0.7896 - val_loss: 0.9273 - val_mae: 0.7927\n",
      "Epoch 17/100\n",
      "\u001b[1m250/250\u001b[0m \u001b[32m━━━━━━━━━━━━━━━━━━━━\u001b[0m\u001b[37m\u001b[0m \u001b[1m0s\u001b[0m 678us/step - loss: 0.9725 - mae: 0.8007 - val_loss: 0.9333 - val_mae: 0.7917\n",
      "Epoch 18/100\n",
      "\u001b[1m250/250\u001b[0m \u001b[32m━━━━━━━━━━━━━━━━━━━━\u001b[0m\u001b[37m\u001b[0m \u001b[1m0s\u001b[0m 676us/step - loss: 0.9480 - mae: 0.7878 - val_loss: 0.9686 - val_mae: 0.8148\n",
      "Epoch 19/100\n",
      "\u001b[1m250/250\u001b[0m \u001b[32m━━━━━━━━━━━━━━━━━━━━\u001b[0m\u001b[37m\u001b[0m \u001b[1m0s\u001b[0m 716us/step - loss: 0.9811 - mae: 0.8107 - val_loss: 0.9284 - val_mae: 0.7935\n",
      "Epoch 20/100\n",
      "\u001b[1m250/250\u001b[0m \u001b[32m━━━━━━━━━━━━━━━━━━━━\u001b[0m\u001b[37m\u001b[0m \u001b[1m0s\u001b[0m 707us/step - loss: 0.9486 - mae: 0.7822 - val_loss: 1.0043 - val_mae: 0.8298\n",
      "Epoch 21/100\n",
      "\u001b[1m250/250\u001b[0m \u001b[32m━━━━━━━━━━━━━━━━━━━━\u001b[0m\u001b[37m\u001b[0m \u001b[1m0s\u001b[0m 705us/step - loss: 0.9743 - mae: 0.8022 - val_loss: 0.9405 - val_mae: 0.8009\n",
      "Epoch 22/100\n",
      "\u001b[1m250/250\u001b[0m \u001b[32m━━━━━━━━━━━━━━━━━━━━\u001b[0m\u001b[37m\u001b[0m \u001b[1m0s\u001b[0m 691us/step - loss: 0.9438 - mae: 0.7854 - val_loss: 0.9639 - val_mae: 0.7992\n",
      "Epoch 23/100\n",
      "\u001b[1m250/250\u001b[0m \u001b[32m━━━━━━━━━━━━━━━━━━━━\u001b[0m\u001b[37m\u001b[0m \u001b[1m0s\u001b[0m 694us/step - loss: 0.9638 - mae: 0.7971 - val_loss: 0.9390 - val_mae: 0.7926\n",
      "Epoch 24/100\n",
      "\u001b[1m250/250\u001b[0m \u001b[32m━━━━━━━━━━━━━━━━━━━━\u001b[0m\u001b[37m\u001b[0m \u001b[1m0s\u001b[0m 672us/step - loss: 0.9434 - mae: 0.7865 - val_loss: 0.9265 - val_mae: 0.7920\n",
      "Epoch 25/100\n",
      "\u001b[1m250/250\u001b[0m \u001b[32m━━━━━━━━━━━━━━━━━━━━\u001b[0m\u001b[37m\u001b[0m \u001b[1m0s\u001b[0m 679us/step - loss: 0.9323 - mae: 0.7824 - val_loss: 0.9277 - val_mae: 0.7931\n",
      "Epoch 26/100\n",
      "\u001b[1m250/250\u001b[0m \u001b[32m━━━━━━━━━━━━━━━━━━━━\u001b[0m\u001b[37m\u001b[0m \u001b[1m0s\u001b[0m 698us/step - loss: 0.9408 - mae: 0.7868 - val_loss: 0.9271 - val_mae: 0.7907\n",
      "Epoch 27/100\n",
      "\u001b[1m250/250\u001b[0m \u001b[32m━━━━━━━━━━━━━━━━━━━━\u001b[0m\u001b[37m\u001b[0m \u001b[1m0s\u001b[0m 702us/step - loss: 0.9755 - mae: 0.8014 - val_loss: 0.9291 - val_mae: 0.7906\n",
      "Epoch 28/100\n",
      "\u001b[1m250/250\u001b[0m \u001b[32m━━━━━━━━━━━━━━━━━━━━\u001b[0m\u001b[37m\u001b[0m \u001b[1m0s\u001b[0m 705us/step - loss: 0.9302 - mae: 0.7789 - val_loss: 0.9328 - val_mae: 0.7972\n",
      "Epoch 29/100\n",
      "\u001b[1m250/250\u001b[0m \u001b[32m━━━━━━━━━━━━━━━━━━━━\u001b[0m\u001b[37m\u001b[0m \u001b[1m0s\u001b[0m 711us/step - loss: 0.9560 - mae: 0.7890 - val_loss: 0.9275 - val_mae: 0.7931\n",
      "Epoch 30/100\n",
      "\u001b[1m250/250\u001b[0m \u001b[32m━━━━━━━━━━━━━━━━━━━━\u001b[0m\u001b[37m\u001b[0m \u001b[1m0s\u001b[0m 694us/step - loss: 0.9603 - mae: 0.7884 - val_loss: 0.9260 - val_mae: 0.7904\n",
      "Epoch 31/100\n",
      "\u001b[1m250/250\u001b[0m \u001b[32m━━━━━━━━━━━━━━━━━━━━\u001b[0m\u001b[37m\u001b[0m \u001b[1m0s\u001b[0m 670us/step - loss: 0.9339 - mae: 0.7851 - val_loss: 0.9394 - val_mae: 0.7924\n",
      "Epoch 32/100\n",
      "\u001b[1m250/250\u001b[0m \u001b[32m━━━━━━━━━━━━━━━━━━━━\u001b[0m\u001b[37m\u001b[0m \u001b[1m0s\u001b[0m 677us/step - loss: 0.9203 - mae: 0.7705 - val_loss: 0.9322 - val_mae: 0.7962\n",
      "Epoch 33/100\n",
      "\u001b[1m250/250\u001b[0m \u001b[32m━━━━━━━━━━━━━━━━━━━━\u001b[0m\u001b[37m\u001b[0m \u001b[1m0s\u001b[0m 719us/step - loss: 0.9229 - mae: 0.7793 - val_loss: 0.9344 - val_mae: 0.7975\n",
      "Epoch 34/100\n",
      "\u001b[1m250/250\u001b[0m \u001b[32m━━━━━━━━━━━━━━━━━━━━\u001b[0m\u001b[37m\u001b[0m \u001b[1m0s\u001b[0m 691us/step - loss: 0.9571 - mae: 0.7958 - val_loss: 0.9290 - val_mae: 0.7950\n",
      "Epoch 35/100\n",
      "\u001b[1m250/250\u001b[0m \u001b[32m━━━━━━━━━━━━━━━━━━━━\u001b[0m\u001b[37m\u001b[0m \u001b[1m0s\u001b[0m 697us/step - loss: 0.9324 - mae: 0.7801 - val_loss: 0.9686 - val_mae: 0.8001\n",
      "Epoch 36/100\n",
      "\u001b[1m250/250\u001b[0m \u001b[32m━━━━━━━━━━━━━━━━━━━━\u001b[0m\u001b[37m\u001b[0m \u001b[1m0s\u001b[0m 693us/step - loss: 0.9351 - mae: 0.7809 - val_loss: 0.9245 - val_mae: 0.7902\n",
      "Epoch 37/100\n",
      "\u001b[1m250/250\u001b[0m \u001b[32m━━━━━━━━━━━━━━━━━━━━\u001b[0m\u001b[37m\u001b[0m \u001b[1m0s\u001b[0m 695us/step - loss: 0.9261 - mae: 0.7779 - val_loss: 0.9272 - val_mae: 0.7932\n",
      "Epoch 38/100\n",
      "\u001b[1m250/250\u001b[0m \u001b[32m━━━━━━━━━━━━━━━━━━━━\u001b[0m\u001b[37m\u001b[0m \u001b[1m0s\u001b[0m 698us/step - loss: 0.9148 - mae: 0.7784 - val_loss: 0.9313 - val_mae: 0.7961\n",
      "Epoch 39/100\n",
      "\u001b[1m250/250\u001b[0m \u001b[32m━━━━━━━━━━━━━━━━━━━━\u001b[0m\u001b[37m\u001b[0m \u001b[1m0s\u001b[0m 676us/step - loss: 0.9444 - mae: 0.7905 - val_loss: 0.9384 - val_mae: 0.8000\n",
      "Epoch 40/100\n",
      "\u001b[1m250/250\u001b[0m \u001b[32m━━━━━━━━━━━━━━━━━━━━\u001b[0m\u001b[37m\u001b[0m \u001b[1m0s\u001b[0m 693us/step - loss: 0.9465 - mae: 0.7864 - val_loss: 0.9683 - val_mae: 0.8147\n",
      "Epoch 41/100\n",
      "\u001b[1m250/250\u001b[0m \u001b[32m━━━━━━━━━━━━━━━━━━━━\u001b[0m\u001b[37m\u001b[0m \u001b[1m0s\u001b[0m 693us/step - loss: 0.9338 - mae: 0.7868 - val_loss: 0.9253 - val_mae: 0.7918\n",
      "Epoch 42/100\n",
      "\u001b[1m250/250\u001b[0m \u001b[32m━━━━━━━━━━━━━━━━━━━━\u001b[0m\u001b[37m\u001b[0m \u001b[1m0s\u001b[0m 708us/step - loss: 0.9104 - mae: 0.7725 - val_loss: 0.9415 - val_mae: 0.7927\n",
      "Epoch 43/100\n",
      "\u001b[1m250/250\u001b[0m \u001b[32m━━━━━━━━━━━━━━━━━━━━\u001b[0m\u001b[37m\u001b[0m \u001b[1m0s\u001b[0m 684us/step - loss: 0.9709 - mae: 0.7974 - val_loss: 0.9298 - val_mae: 0.7952\n",
      "Epoch 44/100\n",
      "\u001b[1m250/250\u001b[0m \u001b[32m━━━━━━━━━━━━━━━━━━━━\u001b[0m\u001b[37m\u001b[0m \u001b[1m0s\u001b[0m 699us/step - loss: 0.9372 - mae: 0.7848 - val_loss: 0.9307 - val_mae: 0.7960\n",
      "Epoch 45/100\n",
      "\u001b[1m250/250\u001b[0m \u001b[32m━━━━━━━━━━━━━━━━━━━━\u001b[0m\u001b[37m\u001b[0m \u001b[1m0s\u001b[0m 680us/step - loss: 0.9376 - mae: 0.7825 - val_loss: 0.9690 - val_mae: 0.8154\n",
      "Epoch 46/100\n",
      "\u001b[1m250/250\u001b[0m \u001b[32m━━━━━━━━━━━━━━━━━━━━\u001b[0m\u001b[37m\u001b[0m \u001b[1m0s\u001b[0m 678us/step - loss: 0.9272 - mae: 0.7855 - val_loss: 0.9242 - val_mae: 0.7899\n",
      "Epoch 47/100\n",
      "\u001b[1m250/250\u001b[0m \u001b[32m━━━━━━━━━━━━━━━━━━━━\u001b[0m\u001b[37m\u001b[0m \u001b[1m0s\u001b[0m 712us/step - loss: 0.9635 - mae: 0.7974 - val_loss: 0.9251 - val_mae: 0.7921\n",
      "Epoch 48/100\n",
      "\u001b[1m250/250\u001b[0m \u001b[32m━━━━━━━━━━━━━━━━━━━━\u001b[0m\u001b[37m\u001b[0m \u001b[1m0s\u001b[0m 698us/step - loss: 0.9500 - mae: 0.7909 - val_loss: 0.9655 - val_mae: 0.8128\n",
      "Epoch 49/100\n",
      "\u001b[1m250/250\u001b[0m \u001b[32m━━━━━━━━━━━━━━━━━━━━\u001b[0m\u001b[37m\u001b[0m \u001b[1m0s\u001b[0m 709us/step - loss: 0.9218 - mae: 0.7793 - val_loss: 0.9508 - val_mae: 0.7947\n",
      "Epoch 50/100\n",
      "\u001b[1m250/250\u001b[0m \u001b[32m━━━━━━━━━━━━━━━━━━━━\u001b[0m\u001b[37m\u001b[0m \u001b[1m0s\u001b[0m 697us/step - loss: 0.9189 - mae: 0.7794 - val_loss: 0.9243 - val_mae: 0.7916\n",
      "Epoch 51/100\n",
      "\u001b[1m250/250\u001b[0m \u001b[32m━━━━━━━━━━━━━━━━━━━━\u001b[0m\u001b[37m\u001b[0m \u001b[1m0s\u001b[0m 722us/step - loss: 0.9287 - mae: 0.7824 - val_loss: 0.9561 - val_mae: 0.8092\n",
      "Epoch 52/100\n",
      "\u001b[1m250/250\u001b[0m \u001b[32m━━━━━━━━━━━━━━━━━━━━\u001b[0m\u001b[37m\u001b[0m \u001b[1m0s\u001b[0m 691us/step - loss: 0.8828 - mae: 0.7560 - val_loss: 0.9391 - val_mae: 0.8005\n",
      "Epoch 53/100\n",
      "\u001b[1m250/250\u001b[0m \u001b[32m━━━━━━━━━━━━━━━━━━━━\u001b[0m\u001b[37m\u001b[0m \u001b[1m0s\u001b[0m 688us/step - loss: 0.9425 - mae: 0.7830 - val_loss: 0.9293 - val_mae: 0.7946\n",
      "Epoch 54/100\n",
      "\u001b[1m250/250\u001b[0m \u001b[32m━━━━━━━━━━━━━━━━━━━━\u001b[0m\u001b[37m\u001b[0m \u001b[1m0s\u001b[0m 710us/step - loss: 0.9374 - mae: 0.7794 - val_loss: 0.9321 - val_mae: 0.7966\n",
      "Epoch 55/100\n",
      "\u001b[1m250/250\u001b[0m \u001b[32m━━━━━━━━━━━━━━━━━━━━\u001b[0m\u001b[37m\u001b[0m \u001b[1m0s\u001b[0m 722us/step - loss: 0.9090 - mae: 0.7720 - val_loss: 0.9245 - val_mae: 0.7911\n",
      "Epoch 56/100\n",
      "\u001b[1m250/250\u001b[0m \u001b[32m━━━━━━━━━━━━━━━━━━━━\u001b[0m\u001b[37m\u001b[0m \u001b[1m0s\u001b[0m 712us/step - loss: 0.9592 - mae: 0.7961 - val_loss: 0.9421 - val_mae: 0.8018\n"
     ]
    },
    {
     "name": "stderr",
     "output_type": "stream",
     "text": [
      "WARNING:absl:You are saving your model as an HDF5 file via `model.save()` or `keras.saving.save_model(model)`. This file format is considered legacy. We recommend using instead the native Keras format, e.g. `model.save('my_model.keras')` or `keras.saving.save_model(model, 'my_model.keras')`. \n"
     ]
    }
   ],
   "source": [
    "EPOCHS = 100\n",
    "BATCH_SIZE = 16\n",
    "early_stopping = EarlyStopping(monitor='val_loss', patience=10, restore_best_weights=True)\n",
    "history = model.fit(X_cnn, y,\n",
    "                    epochs=EPOCHS,\n",
    "                    batch_size=BATCH_SIZE,\n",
    "                    verbose=1,\n",
    "                    validation_split=0.2,\n",
    "                    callbacks=[early_stopping])\n",
    "model.save(MODEL_FILENAME)"
   ]
  },
  {
   "cell_type": "code",
   "execution_count": 29,
   "id": "04090a5f",
   "metadata": {},
   "outputs": [
    {
     "data": {
      "image/png": "[encoded data removed]",
      "text/plain": [
       "<Figure size 1200x500 with 2 Axes>"
      ]
     },
     "metadata": {},
     "output_type": "display_data"
    }
   ],
   "source": [
    "# --- 6. Vẽ Biểu đồ Lịch sử Huấn luyện ---\n",
    "if history is not None:\n",
    "    plt.figure(figsize=(12, 5))\n",
    "\n",
    "    # Biểu đồ Loss (MSE)\n",
    "    plt.subplot(1, 2, 1)\n",
    "    plt.plot(history.history['loss'], label='Training Loss (MSE)')\n",
    "    if 'val_loss' in history.history:\n",
    "        plt.plot(history.history['val_loss'], label='Validation Loss (MSE)')\n",
    "    plt.title('Training and Validation Loss MSE')\n",
    "    plt.xlabel('Epoch')\n",
    "    plt.ylabel('Mean Squared Error')\n",
    "    plt.legend()\n",
    "    plt.grid(True)\n",
    "\n",
    "    # Biểu đồ MAE\n",
    "    plt.subplot(1, 2, 2)\n",
    "    plt.plot(history.history['mae'], label='Training MAE')\n",
    "    if 'val_mae' in history.history:\n",
    "        plt.plot(history.history['val_mae'], label='Validation MAE')\n",
    "    plt.title('Training and Validation MAE')\n",
    "    plt.xlabel('Epoch')\n",
    "    plt.ylabel('Mean Absolute Error')\n",
    "    plt.legend()\n",
    "    plt.grid(True)\n",
    "\n",
    "    plt.tight_layout()\n",
    "    plt.show()\n"
   ]
  },
  {
   "cell_type": "code",
   "execution_count": 41,
   "id": "23471ae5",
   "metadata": {},
   "outputs": [
    {
     "name": "stdout",
     "output_type": "stream",
     "text": [
      "\u001b[1m1/1\u001b[0m \u001b[32m━━━━━━━━━━━━━━━━━━━━\u001b[0m\u001b[37m\u001b[0m \u001b[1m0s\u001b[0m 16ms/step\n",
      "\n",
      "--- Kết quả dự đoán cho 10 mẫu đầu tiên ---\n",
      "Điểm thực tế  | Điểm dự đoán\n",
      "---------------------------------\n",
      "6.00           | 6.01          \n",
      "7.75           | 6.05          \n",
      "5.25           | 6.35          \n",
      "8.25           | 8.63          \n",
      "5.00           | 5.20          \n",
      "6.75           | 7.46          \n",
      "8.50           | 7.27          \n",
      "5.25           | 5.46          \n",
      "5.75           | 5.40          \n",
      "6.75           | 7.70          \n"
     ]
    }
   ],
   "source": [
    "# --- 7. Dự đoán thử và Đánh giá ---\n",
    "num_predictions = 10\n",
    "X_sample_cnn = X_cnn[:num_predictions]\n",
    "y_sample_actual = y[:num_predictions]\n",
    "\n",
    "predicted_scores = model.predict(X_sample_cnn)\n",
    "\n",
    "print(f\"\\n--- Kết quả dự đoán cho {num_predictions} mẫu đầu tiên ---\")\n",
    "print(\"Điểm thực tế  | Điểm dự đoán\")\n",
    "print(\"---------------------------------\")\n",
    "for i in range(num_predictions):\n",
    "    print(f\"{y_sample_actual[i]:<14.2f} | {predicted_scores[i][0]:<14.2f}\")\n"
   ]
  }
 ],
 "metadata": {
  "kernelspec": {
   "display_name": "Python 3",
   "language": "python",
   "name": "python3"
  },
  "language_info": {
   "codemirror_mode": {
    "name": "ipython",
    "version": 3
   },
   "file_extension": ".py",
   "mimetype": "text/x-python",
   "name": "python",
   "nbconvert_exporter": "python",
   "pygments_lexer": "ipython3",
   "version": "3.12.6"
  }
 },
 "nbformat": 4,
 "nbformat_minor": 5
}
